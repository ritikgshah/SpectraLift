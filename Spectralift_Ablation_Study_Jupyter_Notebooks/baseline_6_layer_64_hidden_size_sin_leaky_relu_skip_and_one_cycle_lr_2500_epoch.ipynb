version https://git-lfs.github.com/spec/v1
oid sha256:66574fe519c4962f38f2ea01bd8e0b8ab71f553689a17067cebbad3ed3352420
size 5397613
